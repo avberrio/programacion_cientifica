{
 "cells": [
  {
   "cell_type": "markdown",
   "metadata": {},
   "source": [
    "<center>\n",
    "    <h1> Programación Científica </h1>\n",
    "    <h1> Proyecto </h1>\n",
    "    <h2> Cellular Automaton: Conway's Game of Life </h2>\n",
    "    <h3> Aldo Berrios Valenzuela  </h3>\n",
    "    <h3> 201304018-7 </h3>\n",
    "    <h4> `aldo.berrios.13@sansano.usm.cl` </h4>\n",
    "</center>"
   ]
  },
  {
   "cell_type": "markdown",
   "metadata": {},
   "source": [
    "# 1. &nbsp;&nbsp;&nbsp;&nbsp; Introducción"
   ]
  },
  {
   "cell_type": "markdown",
   "metadata": {},
   "source": [
    "El *Juego de la Vida* es una aplicación de autómatas celulares (conjunto de reglas), para simular la formación de patrones en el crecimiento de colonias de organismos biológicos.\n",
    "\n",
    "En esta ocasión, representaremos el juego a través de un arreglo bi-dimensional de células vivas y muertas, representadas por un 1 y 0 respectivamente. Para el desarrollo de este problema, consideraremos que la célula $a_{ij}$ está rodeada de\n",
    "\n",
    "* $a_{i-1, j-1}$\n",
    "* $a_{i-1, j}$\n",
    "* $a_{i-1, j+1}$\n",
    "* $a_{i, j-1}$\n",
    "* $a_{i, j+1}$\n",
    "* $a_{i+1, j-1}$\n",
    "* $a_{i+1, j}$\n",
    "* $a_{i+1, j+1}$\n",
    "\n",
    "Gráficamente:\n",
    "<img src=\"img/1.png\" style=\"height: 170px;\">\n",
    "\n",
    "Donde:\n",
    "\n",
    "* La casilla sombreada con celeste corresponde a la célula que apuntamos actualmente y ver qué es lo que ocurrirá con ella en un futuro.\n",
    "* Las casillas sombreadas con naranjo claro corresponden a las células que rodean a la de interés.\n",
    "\n",
    "\n",
    "Las reglas para pasar pasar de una generación a la otra son las siguientes:\n",
    "\n",
    "* **Sobrepoblación:** Si una célula viva es rodeada por más de tres células vivas, muere. Ejemplo:\n",
    "<img src=\"img/sobrepoblacion.png\" style=\"height: 170px;\">\n",
    "\n",
    "* **Estasis:** Si una célula viva es rodeada por dos o tres células vivas, sobrevive. Ejemplo:\n",
    "<img src=\"img/estasis.png\" style=\"height: 170px;\">\n",
    "\n",
    "* **Subpoblación:** Si una célula viva es rodeada por menos de dos células vivas, muere.\n",
    "<img src=\"img/subpoblacion.png\" style=\"height: 170px;\">\n",
    "\n",
    "* **Reproducción:** Si una célula muerta es rodeada por exáctamente tres células vivas, esta se vuelve una célula viva.\n",
    "<img src=\"img/reproduction.png\" style=\"height: 170px;\">\n",
    "\n",
    "Notar que nos basaremos en lo anterior en lo que respecta a la implementación del algoritmo."
   ]
  },
  {
   "cell_type": "markdown",
   "metadata": {},
   "source": [
    "# 2. &nbsp;&nbsp;&nbsp;&nbsp; Implementación"
   ]
  },
  {
   "cell_type": "markdown",
   "metadata": {},
   "source": [
    "Importamos las librerías que usaremos en la implementación del modelamiento del problema:"
   ]
  },
  {
   "cell_type": "code",
   "execution_count": 52,
   "metadata": {
    "collapsed": true
   },
   "outputs": [],
   "source": [
    "import numpy as np\n",
    "import numba\n",
    "import matplotlib.pyplot as plt\n",
    "from ipywidgets import interact\n",
    "from ipywidgets import fixed"
   ]
  },
  {
   "cell_type": "markdown",
   "metadata": {},
   "source": [
    "Creamos, por simplicidad, una matriz cuadrada aleatoria de dimensión $1000$ para simular el juego (el algoritmo propuesto funciona con cualquier matriz de cualquier dimensión, cuadrada o no):"
   ]
  },
  {
   "cell_type": "code",
   "execution_count": 54,
   "metadata": {
    "collapsed": true
   },
   "outputs": [],
   "source": [
    "n = 1000\n",
    "m = 1000\n",
    "jumps = 10\n",
    "gof_matrix = np.random.randint(2, size=(m, n))"
   ]
  },
  {
   "cell_type": "markdown",
   "metadata": {
    "collapsed": true
   },
   "source": [
    "Posteriormente, creamos una función que nos permitirá pasar $i$ generaciones:"
   ]
  },
  {
   "cell_type": "code",
   "execution_count": 67,
   "metadata": {
    "collapsed": true
   },
   "outputs": [],
   "source": [
    "@numba.jit()\n",
    "def next_generation(sample, generations=1):\n",
    "    historic_record = list()\n",
    "    historic_record.append(sample)\n",
    "    if generations == 0:\n",
    "        return historic_record\n",
    "    today = np.copy(sample)\n",
    "    for generation in range(generations):\n",
    "        next_g = np.zeros(sample.shape)\n",
    "        for i in range(sample.shape[0]):\n",
    "            upper_bound = i - 1\n",
    "            lower_bound = i + 2\n",
    "            if upper_bound < 0:\n",
    "                upper_bound = 0\n",
    "            if lower_bound > sample.shape[0]:\n",
    "                lower_bound = sample.shape[0]\n",
    "            for j in range(sample.shape[1]):\n",
    "                left_bound = j - 1\n",
    "                right_bound = j + 2\n",
    "                if left_bound < 0:\n",
    "                    left_bound = 0\n",
    "                if right_bound > sample.shape[1]:\n",
    "                    right_bound = sample.shape[1]\n",
    "                    \n",
    "                # Obtenemos la cantidad de células vivas alrededor de la de interés\n",
    "                live = np.sum(today[upper_bound:lower_bound, left_bound:right_bound] - today[i, j])\n",
    "                \n",
    "                # Importante destacar que restamos today[i, j] porque de lo contrario estaríamos incluyendo a esta\n",
    "                # célula.\n",
    "                \n",
    "                if today[i, j] == 1 and live > 3:\n",
    "                    next_g[i, j] = 0\n",
    "                elif today[i, j] == 1 and (live == 2 or live == 3):\n",
    "                    next_g[i, j] = 1\n",
    "                elif today[i, j] == 1 and live < 2:\n",
    "                    next_g[i, j] = 0\n",
    "                elif today[i, j] == 0 and live == 3:\n",
    "                    next_g[i, j] = 1\n",
    "        today = np.copy(next_g)\n",
    "        historic_record.append(next_g)\n",
    "    return historic_record"
   ]
  },
  {
   "cell_type": "markdown",
   "metadata": {},
   "source": [
    "Es importante destaca que la función anterior entrega como salida una lista de arreglos bi-dimensionales en lugar de uno solo. La razón de esto la explicaremos después."
   ]
  },
  {
   "cell_type": "markdown",
   "metadata": {},
   "source": [
    "# 3. &nbsp;&nbsp;&nbsp;&nbsp; Profiling"
   ]
  },
  {
   "cell_type": "markdown",
   "metadata": {},
   "source": [
    "Para encontrar los cuellos de botella del código propuesto, haremos un line profiling. Para ello, cargamos el magic:"
   ]
  },
  {
   "cell_type": "code",
   "execution_count": 69,
   "metadata": {
    "collapsed": true
   },
   "outputs": [],
   "source": [
    "%load_ext line_profiler"
   ]
  },
  {
   "cell_type": "markdown",
   "metadata": {},
   "source": [
    "Luego, echamos a correr el algoritmo anterior con la matriz "
   ]
  },
  {
   "cell_type": "code",
   "execution_count": 70,
   "metadata": {
    "collapsed": false
   },
   "outputs": [
    {
     "name": "stdout",
     "output_type": "stream",
     "text": [
      "\n",
      "*** Profile printout saved to text file 'lbp_next_generation'. \n"
     ]
    }
   ],
   "source": [
    "%lprun -T lbp_next_generation -f next_generation historic_record=next_generation(gof_matrix, jumps)"
   ]
  },
  {
   "cell_type": "markdown",
   "metadata": {},
   "source": [
    "Posteriormente, mostramos el resultado del profiling por pantalla:"
   ]
  },
  {
   "cell_type": "code",
   "execution_count": 75,
   "metadata": {
    "collapsed": false
   },
   "outputs": [
    {
     "name": "stdout",
     "output_type": "stream",
     "text": [
      "Timer unit: 1e-06 s\n",
      "\n",
      "Total time: 0 s\n",
      "File: <ipython-input-67-5f5525527c84>\n",
      "Function: next_generation at line 1\n",
      "\n",
      "Line #      Hits         Time  Per Hit   % Time  Line Contents\n",
      "==============================================================\n",
      "     1                                           @numba.jit()\n",
      "     2                                           def next_generation(sample, generations=1):\n",
      "     3                                               historic_record = list()\n",
      "     4                                               historic_record.append(sample)\n",
      "     5                                               if generations == 0:\n",
      "     6                                                   return historic_record\n",
      "     7                                               today = np.copy(sample)\n",
      "     8                                               for generation in range(generations):\n",
      "     9                                                   next_g = np.zeros(sample.shape)\n",
      "    10                                                   for i in range(sample.shape[0]):\n",
      "    11                                                       upper_bound = i - 1\n",
      "    12                                                       lower_bound = i + 2\n",
      "    13                                                       if upper_bound < 0:\n",
      "    14                                                           upper_bound = 0\n",
      "    15                                                       if lower_bound > sample.shape[0]:\n",
      "    16                                                           lower_bound = sample.shape[0]\n",
      "    17                                                       for j in range(sample.shape[1]):\n",
      "    18                                                           left_bound = j - 1\n",
      "    19                                                           right_bound = j + 2\n",
      "    20                                                           if left_bound < 0:\n",
      "    21                                                               left_bound = 0\n",
      "    22                                                           if right_bound > sample.shape[1]:\n",
      "    23                                                               right_bound = sample.shape[1]\n",
      "    24                                                               \n",
      "    25                                                           # Obtenemos la cantidad de células vivas alrededor de la de interés\n",
      "    26                                                           live = np.sum(today[upper_bound:lower_bound, left_bound:right_bound] - today[i, j])\n",
      "    27                                                           \n",
      "    28                                                           # Importante destacar que restamos today[i, j] porque de lo contrario estaríamos incluyendo a esta\n",
      "    29                                                           # célula.\n",
      "    30                                                           \n",
      "    31                                                           if today[i, j] == 1 and live > 3:\n",
      "    32                                                               next_g[i, j] = 0\n",
      "    33                                                           elif today[i, j] == 1 and (live == 2 or live == 3):\n",
      "    34                                                               next_g[i, j] = 1\n",
      "    35                                                           elif today[i, j] == 1 and live < 2:\n",
      "    36                                                               next_g[i, j] = 0\n",
      "    37                                                           elif today[i, j] == 0 and live == 3:\n",
      "    38                                                               next_g[i, j] = 1\n",
      "    39                                                   today = np.copy(next_g)\n",
      "    40                                                   historic_record.append(next_g)\n",
      "    41                                               return historic_record\n"
     ]
    }
   ],
   "source": [
    "print(open('lbp_next_generation', 'r').read())"
   ]
  },
  {
   "cell_type": "markdown",
   "metadata": {},
   "source": [
    "Al parecer, el profiling falla cuando usamos numba, así que definiremos otra función que simula el experimento sin usar numba:"
   ]
  },
  {
   "cell_type": "code",
   "execution_count": 76,
   "metadata": {
    "collapsed": true
   },
   "outputs": [],
   "source": [
    "def next_generation_without_numba(sample, generations=1):\n",
    "    historic_record = list()\n",
    "    historic_record.append(sample)\n",
    "    if generations == 0:\n",
    "        return historic_record\n",
    "    today = np.copy(sample)\n",
    "    for generation in range(generations):\n",
    "        next_g = np.zeros(sample.shape)\n",
    "        for i in range(sample.shape[0]):\n",
    "            upper_bound = i - 1\n",
    "            lower_bound = i + 2\n",
    "            if upper_bound < 0:\n",
    "                upper_bound = 0\n",
    "            if lower_bound > sample.shape[0]:\n",
    "                lower_bound = sample.shape[0]\n",
    "            for j in range(sample.shape[1]):\n",
    "                left_bound = j - 1\n",
    "                right_bound = j + 2\n",
    "                if left_bound < 0:\n",
    "                    left_bound = 0\n",
    "                if right_bound > sample.shape[1]:\n",
    "                    right_bound = sample.shape[1]\n",
    "                    \n",
    "                # Obtenemos la cantidad de células vivas alrededor de la de interés\n",
    "                live = np.sum(today[upper_bound:lower_bound, left_bound:right_bound] - today[i, j])\n",
    "                \n",
    "                # Importante destacar que restamos today[i, j] porque de lo contrario estaríamos incluyendo a esta\n",
    "                # célula.\n",
    "                \n",
    "                if today[i, j] == 1 and live > 3:\n",
    "                    next_g[i, j] = 0\n",
    "                elif today[i, j] == 1 and (live == 2 or live == 3):\n",
    "                    next_g[i, j] = 1\n",
    "                elif today[i, j] == 1 and live < 2:\n",
    "                    next_g[i, j] = 0\n",
    "                elif today[i, j] == 0 and live == 3:\n",
    "                    next_g[i, j] = 1\n",
    "        today = np.copy(next_g)\n",
    "        historic_record.append(next_g)\n",
    "    return historic_record"
   ]
  },
  {
   "cell_type": "markdown",
   "metadata": {},
   "source": [
    "Luego, volvemos a hacer el profiling:"
   ]
  },
  {
   "cell_type": "code",
   "execution_count": 79,
   "metadata": {
    "collapsed": false
   },
   "outputs": [
    {
     "name": "stdout",
     "output_type": "stream",
     "text": [
      "\n",
      "*** Profile printout saved to text file 'lbp_next_generation_without_numba'. \n"
     ]
    }
   ],
   "source": [
    "%lprun -T lbp_next_generation_without_numba -f next_generation_without_numba next_generation_without_numba(gof_matrix, jumps)"
   ]
  },
  {
   "cell_type": "markdown",
   "metadata": {},
   "source": [
    "Mostramos los resultados del profiling por pantalla:"
   ]
  },
  {
   "cell_type": "code",
   "execution_count": 80,
   "metadata": {
    "collapsed": false
   },
   "outputs": [
    {
     "name": "stdout",
     "output_type": "stream",
     "text": [
      "Timer unit: 1e-06 s\n",
      "\n",
      "Total time: 239.202 s\n",
      "File: <ipython-input-76-09cf13080a15>\n",
      "Function: next_generation_without_numba at line 1\n",
      "\n",
      "Line #      Hits         Time  Per Hit   % Time  Line Contents\n",
      "==============================================================\n",
      "     1                                           def next_generation_without_numba(sample, generations=1):\n",
      "     2         1            3      3.0      0.0      historic_record = list()\n",
      "     3         1            1      1.0      0.0      historic_record.append(sample)\n",
      "     4         1            0      0.0      0.0      if generations == 0:\n",
      "     5                                                   return historic_record\n",
      "     6         1         5532   5532.0      0.0      today = np.copy(sample)\n",
      "     7        11           29      2.6      0.0      for generation in range(generations):\n",
      "     8        10        22492   2249.2      0.0          next_g = np.zeros(sample.shape)\n",
      "     9     10010         6708      0.7      0.0          for i in range(sample.shape[0]):\n",
      "    10     10000         7925      0.8      0.0              upper_bound = i - 1\n",
      "    11     10000         6864      0.7      0.0              lower_bound = i + 2\n",
      "    12     10000         6514      0.7      0.0              if upper_bound < 0:\n",
      "    13        10            9      0.9      0.0                  upper_bound = 0\n",
      "    14     10000        10916      1.1      0.0              if lower_bound > sample.shape[0]:\n",
      "    15        10            8      0.8      0.0                  lower_bound = sample.shape[0]\n",
      "    16  10010000      7046501      0.7      2.9              for j in range(sample.shape[1]):\n",
      "    17  10000000      7265696      0.7      3.0                  left_bound = j - 1\n",
      "    18  10000000      7274225      0.7      3.0                  right_bound = j + 2\n",
      "    19  10000000      7041571      0.7      2.9                  if left_bound < 0:\n",
      "    20     10000         6167      0.6      0.0                      left_bound = 0\n",
      "    21  10000000     10179878      1.0      4.3                  if right_bound > sample.shape[1]:\n",
      "    22     10000         8199      0.8      0.0                      right_bound = sample.shape[1]\n",
      "    23                                                               \n",
      "    24                                                           # Obtenemos la cantidad de células vivas alrededor de la de interés\n",
      "    25  10000000    145877169     14.6     61.0                  live = np.sum(today[upper_bound:lower_bound, left_bound:right_bound] - today[i, j])\n",
      "    26                                                           \n",
      "    27                                                           # Importante destacar que restamos today[i, j] porque de lo contrario estaríamos incluyendo a esta\n",
      "    28                                                           # célula.\n",
      "    29                                                           \n",
      "    30  10000000     17046164      1.7      7.1                  if today[i, j] == 1 and live > 3:\n",
      "    31                                                               next_g[i, j] = 0\n",
      "    32  10000000     11830723      1.2      4.9                  elif today[i, j] == 1 and (live == 2 or live == 3):\n",
      "    33                                                               next_g[i, j] = 1\n",
      "    34  10000000     11510923      1.2      4.8                  elif today[i, j] == 1 and live < 2:\n",
      "    35    674417       738532      1.1      0.3                      next_g[i, j] = 0\n",
      "    36   9325583     13011606      1.4      5.4                  elif today[i, j] == 0 and live == 3:\n",
      "    37    174341       214474      1.2      0.1                      next_g[i, j] = 1\n",
      "    38        10        82905   8290.5      0.0          today = np.copy(next_g)\n",
      "    39        10           74      7.4      0.0          historic_record.append(next_g)\n",
      "    40         1            1      1.0      0.0      return historic_record\n"
     ]
    }
   ],
   "source": [
    "print(open('lbp_next_generation_without_numba', 'r').read())"
   ]
  },
  {
   "cell_type": "markdown",
   "metadata": {},
   "source": [
    "Como se puede apreciar, el código anterior demora bastante en su ejecución, pero hay que recordar que el profiling anterior corresponde a la simulación hecha sin numba. Por lo tanto, nuestro análisis lo haremos en base al porcentaje de tiempo utilizado en la ejecución total del algoritmo."
   ]
  },
  {
   "cell_type": "markdown",
   "metadata": {},
   "source": [
    "Como podemos observar, el mayor tiempo se lo lleva la línea que obtiene la cantidad de células vivas que rodean a la de interés\n",
    "```python\n",
    "live = np.sum(today[upper_bound:lower_bound, left_bound:right_bound] - today[i, j])\n",
    "```\n",
    "con un 61% del tiempo de ejecución. El resto del tiempo del tiempo se gasta haciendo asignaciones y comparaciones. \n",
    "\n",
    "Lamentablemente, el código anterior no se puede mejorar más de lo que está porque las comparaciones son estrictamente necesarias ya que son utilizadas para encontrar obtener la vecindad de células que rodean a la de interés y evita problemas cuando nos encontremos en los bordes del arreglo bidimensional. Por otro lado, como `np.sum` ya es una función optimizada para obtener la suma de una matriz, no se puede mejorar.\n",
    "\n",
    "La única forma de mejorar el código anterior es a través del uso de threads, pero no se hará en este proyecto."
   ]
  },
  {
   "cell_type": "markdown",
   "metadata": {},
   "source": [
    "No se hará un memory profiling debido a que no funciona del todo muy bien."
   ]
  },
  {
   "cell_type": "markdown",
   "metadata": {},
   "source": [
    "# 4. &nbsp;&nbsp;&nbsp;&nbsp; Visualización"
   ]
  },
  {
   "cell_type": "markdown",
   "metadata": {},
   "source": [
    "Ahora que tenemos la lista que contiene las matrices con cada una de las generaciones posteriores al initial guess, procedemos a visualizarlas a través de un gráfico en lugar de una matriz compuesta de 1's y 0's. Comenzamos definiendo la función que se encarga de mostrar el gráfico:"
   ]
  },
  {
   "cell_type": "code",
   "execution_count": 55,
   "metadata": {
    "collapsed": false
   },
   "outputs": [],
   "source": [
    "def show_population(results, generations=0):\n",
    "    plt.matshow(results[generations])\n",
    "    plt.show()"
   ]
  },
  {
   "cell_type": "markdown",
   "metadata": {},
   "source": [
    "Luego, para observar de forma interactiva qué es lo que ocurre con la población de células, usaremos `interact` para completar dicho propósito:"
   ]
  },
  {
   "cell_type": "code",
   "execution_count": 82,
   "metadata": {
    "collapsed": false
   },
   "outputs": [
    {
     "data": {
      "image/png": "[encoded data removed]",
      "text/plain": [
       "<matplotlib.figure.Figure at 0x11d58bf98>"
      ]
     },
     "metadata": {},
     "output_type": "display_data"
    }
   ],
   "source": [
    "interact(show_population, results=fixed(historic_record), generations=(0, jumps, 1))"
   ]
  },
  {
   "cell_type": "markdown",
   "metadata": {},
   "source": [
    "Debido a que `interact` computa la función que se le entrega cada vez que variamos un parámetro, hicimos que `next_generation` retornara una lista en lugar de una matriz de la generación que buscamos, para ahorrar una gran cantidad de tiempo de computación. El tradeoff de hacer esto es un aumento significativo en el uso de memoria RAM para poder almacenar la lista que contiene el resultado histórico de la población de células."
   ]
  },
  {
   "cell_type": "markdown",
   "metadata": {},
   "source": [
    "## 4.1. &nbsp;&nbsp;&nbsp; Decaimiento de la población en el tiempo"
   ]
  },
  {
   "cell_type": "markdown",
   "metadata": {},
   "source": [
    "Como se pudo observar en el `interact` anterior, la población de células decae en el tiempo. Así que aprovecharemos las herramientas entregadas por `matplotlib` para ver qué tan rápido estas decaen:"
   ]
  },
  {
   "cell_type": "code",
   "execution_count": 93,
   "metadata": {
    "collapsed": false
   },
   "outputs": [
    {
     "data": {
      "image/png": "[encoded data removed]",
      "text/plain": [
       "<matplotlib.figure.Figure at 0x11a1918d0>"
      ]
     },
     "metadata": {},
     "output_type": "display_data"
    }
   ],
   "source": [
    "population = list()\n",
    "for i in range(jumps + 1):\n",
    "    population.append(np.sum(historic_record[i]))\n",
    "\n",
    "populaton = np.asarray(population)\n",
    "time = np.asarray(range(0, jumps + 1))\n",
    "plt.plot(time, population, '.')\n",
    "plt.title(\"Población de células vs Tiempo\")\n",
    "plt.ylabel(\"Cantidad de Células\")\n",
    "plt.xlabel(\"Tiempo\")\n",
    "plt.show()"
   ]
  },
  {
   "cell_type": "markdown",
   "metadata": {
    "collapsed": false
   },
   "source": [
    "De lo anterior, se puede observar que inicialmente comenzamos con 500000 células y a medida que va pasando el tiempo, la cantidad de estas tiende a decaer exponencialmente conforme pasa el tiempo."
   ]
  }
 ],
 "metadata": {
  "kernelspec": {
   "display_name": "Python 3",
   "language": "python",
   "name": "python3"
  },
  "language_info": {
   "codemirror_mode": {
    "name": "ipython",
    "version": 3
   },
   "file_extension": ".py",
   "mimetype": "text/x-python",
   "name": "python",
   "nbconvert_exporter": "python",
   "pygments_lexer": "ipython3",
   "version": "3.6.0"
  },
  "widgets": {
   "state": {
    "8e2e4f349ac04fac89e27cc4f7e7a617": {
     "views": [
      {
       "cell_index": 31
      }
     ]
    }
   },
   "version": "1.2.0"
  }
 },
 "nbformat": 4,
 "nbformat_minor": 2
}
