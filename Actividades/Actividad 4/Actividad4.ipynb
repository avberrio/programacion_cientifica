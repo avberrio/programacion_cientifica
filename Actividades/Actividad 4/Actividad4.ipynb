{
 "cells": [
  {
   "cell_type": "markdown",
   "metadata": {},
   "source": [
    "<center>\n",
    "    <h1> Programación Científica </h1>\n",
    "    <h1> Actividad Clase 4 </h1>\n",
    "    <h3> Aldo Berrios Valenzuela  </h3>\n",
    "    <h3> 201304018-7 </h3>\n",
    "    <h4> `aldo.berrios.13@sansano.usm.cl` </h4>\n",
    "</center>"
   ]
  },
  {
   "cell_type": "markdown",
   "metadata": {},
   "source": [
    "# Preliminares\n",
    "Agregamos las librerías que usaremos durante esta experiencia:"
   ]
  },
  {
   "cell_type": "code",
   "execution_count": 1,
   "metadata": {
    "collapsed": true
   },
   "outputs": [],
   "source": [
    "import numba\n",
    "import numpy as np"
   ]
  },
  {
   "cell_type": "markdown",
   "metadata": {},
   "source": [
    "# 1.&nbsp;&nbsp;&nbsp;&nbsp; Python Clásico"
   ]
  },
  {
   "cell_type": "markdown",
   "metadata": {},
   "source": [
    "Creamos el algoritmo:"
   ]
  },
  {
   "cell_type": "code",
   "execution_count": 2,
   "metadata": {
    "collapsed": true
   },
   "outputs": [],
   "source": [
    "def hausdorff_metric(X, Y):\n",
    "    max_dist_matrix_a = -float('inf')\n",
    "    for i in range(X.shape[0]):\n",
    "        min_dist_row_row = float('inf')\n",
    "        for j in range(Y.shape[0]):\n",
    "            if min_dist_row_row > np.linalg.norm(X[i] - Y[j]):\n",
    "                min_dist_row_row = np.linalg.norm(X[i] - Y[j])\n",
    "        if min_dist_row_row > max_dist_matrix_a:\n",
    "            max_dist_matrix_a = min_dist_row_row\n",
    "\n",
    "    max_dist_matrix_b = -float('inf')\n",
    "    for i in range(X.shape[0]):\n",
    "        min_dist_row_row = float('inf')\n",
    "        for j in range(Y.shape[0]):\n",
    "            if min_dist_row_row > np.linalg.norm(X[i] - Y[j]):\n",
    "                min_dist_row_row = np.linalg.norm(X[i] - Y[j])\n",
    "        if min_dist_row_row > max_dist_matrix_b:\n",
    "            max_dist_matrix_b = min_dist_row_row\n",
    "    \n",
    "    return max((max_dist_matrix_a, max_dist_matrix_b))"
   ]
  },
  {
   "cell_type": "markdown",
   "metadata": {},
   "source": [
    "# 2.&nbsp;&nbsp;&nbsp;&nbsp; Implementación con Numba\n",
    "En este caso, la implementación del algoritmo sería:"
   ]
  },
  {
   "cell_type": "code",
   "execution_count": 3,
   "metadata": {
    "collapsed": false
   },
   "outputs": [],
   "source": [
    "@numba.jit('float64 (float64[:,:], float64[:,:])', nopython = True)\n",
    "def hausdorff_metric_numba(X, Y):\n",
    "    max_dist_matrix_a = -999999999999\n",
    "    for i in range(X.shape[0]):\n",
    "        min_dist_row_row = 999999999999\n",
    "        for j in range(Y.shape[0]):\n",
    "            if min_dist_row_row > np.linalg.norm(X[i] - Y[j]):\n",
    "                min_dist_row_row = np.linalg.norm(X[i] - Y[j])\n",
    "        if min_dist_row_row > max_dist_matrix_a:\n",
    "            max_dist_matrix_a = min_dist_row_row\n",
    "\n",
    "    max_dist_matrix_b = -999999999999\n",
    "    for i in range(X.shape[0]):\n",
    "        min_dist_row_row = 999999999999\n",
    "        for j in range(Y.shape[0]):\n",
    "            if min_dist_row_row > np.linalg.norm(X[i] - Y[j]):\n",
    "                min_dist_row_row = np.linalg.norm(X[i] - Y[j])\n",
    "        if min_dist_row_row > max_dist_matrix_b:\n",
    "            max_dist_matrix_b = min_dist_row_row\n",
    "    \n",
    "    return max((max_dist_matrix_a, max_dist_matrix_b))"
   ]
  },
  {
   "cell_type": "markdown",
   "metadata": {
    "collapsed": true
   },
   "source": [
    "# 3.&nbsp;&nbsp;&nbsp;&nbsp; Matrices Aleatorias\n",
    "\n",
    "Los arreglos aleatorios poseen las siguentes características:\n",
    "* Cada elemento de la matriz oscila entre 0 y 10.\n",
    "* La cantidad creciente de filas de la matriz $X$ estará dada por la serie Fibonacci, y la matriz $Y$ por los números de Lucas.\n",
    "\n",
    "Luego, creamos los 10 arreglos aleatorios:"
   ]
  },
  {
   "cell_type": "code",
   "execution_count": 4,
   "metadata": {
    "collapsed": false
   },
   "outputs": [],
   "source": [
    "X_array = []\n",
    "Y_array = []\n",
    "\n",
    "fibonacci_serie = [5, 8, 13, 21, 34, 55, 89, 144, 233, 377]\n",
    "lucas_numbers = [3, 4, 7, 11, 18, 29, 47, 76, 123, 199]\n",
    "\n",
    "for fibonnaci_number in fibonacci_serie:\n",
    "    X_array.append(10 * np.random.random((fibonnaci_number, 3)))\n",
    "\n",
    "for lucas_number in lucas_numbers:\n",
    "    Y_array.append(10 * np.random.random((lucas_number, 3)))"
   ]
  },
  {
   "cell_type": "markdown",
   "metadata": {},
   "source": [
    "Listo lo anterior, se hacen las pruebas correspondientes:"
   ]
  },
  {
   "cell_type": "code",
   "execution_count": 7,
   "metadata": {
    "collapsed": false,
    "scrolled": false
   },
   "outputs": [
    {
     "name": "stdout",
     "output_type": "stream",
     "text": [
      "Caso 1: Matrix X de 5x3. Matriz Y de 3x3\n",
      "Python Puro: 1000 loops, best of 3: 250 µs per loop\n",
      "Numba      : 10000 loops, best of 3: 22.4 µs per loop\n",
      "\n",
      "Caso 2: Matrix X de 8x3. Matriz Y de 4x3\n",
      "Python Puro: 1000 loops, best of 3: 436 µs per loop\n",
      "Numba      : 10000 loops, best of 3: 37.8 µs per loop\n",
      "\n",
      "Caso 3: Matrix X de 13x3. Matriz Y de 7x3\n",
      "Python Puro: 1000 loops, best of 3: 1.16 ms per loop\n",
      "Numba      : 10000 loops, best of 3: 106 µs per loop\n",
      "\n",
      "Caso 4: Matrix X de 21x3. Matriz Y de 11x3\n",
      "Python Puro: 100 loops, best of 3: 2.57 ms per loop\n",
      "Numba      : 1000 loops, best of 3: 232 µs per loop\n",
      "\n",
      "Caso 5: Matrix X de 34x3. Matriz Y de 18x3\n",
      "Python Puro: 100 loops, best of 3: 6.5 ms per loop\n",
      "Numba      : 1000 loops, best of 3: 596 µs per loop\n",
      "\n",
      "Caso 6: Matrix X de 55x3. Matriz Y de 29x3\n",
      "Python Puro: 100 loops, best of 3: 16 ms per loop\n",
      "Numba      : 1000 loops, best of 3: 1.48 ms per loop\n",
      "\n",
      "Caso 7: Matrix X de 89x3. Matriz Y de 47x3\n",
      "Python Puro: 10 loops, best of 3: 40.9 ms per loop\n",
      "Numba      : 100 loops, best of 3: 3.73 ms per loop\n",
      "\n",
      "Caso 8: Matrix X de 144x3. Matriz Y de 76x3\n",
      "Python Puro: 10 loops, best of 3: 102 ms per loop\n",
      "Numba      : 100 loops, best of 3: 9.57 ms per loop\n",
      "\n",
      "Caso 9: Matrix X de 233x3. Matriz Y de 123x3\n",
      "Python Puro: 1 loop, best of 3: 257 ms per loop\n",
      "Numba      : 10 loops, best of 3: 23.8 ms per loop\n",
      "\n",
      "Caso 10: Matrix X de 377x3. Matriz Y de 199x3\n",
      "Python Puro: 1 loop, best of 3: 663 ms per loop\n",
      "Numba      : 10 loops, best of 3: 62.7 ms per loop\n",
      "\n"
     ]
    }
   ],
   "source": [
    "time_array = list()\n",
    "time_numba_array = list()\n",
    "for i in range(10):\n",
    "    print (\"Caso \" + str(i + 1) + \": \" + \"Matrix X de \" + str(X_array[i].shape[0]) + \"x\" + str(X_array[i].shape[1]) \\\n",
    "          + \". Matriz Y de \" + str(Y_array[i].shape[0]) + \"x\" + str(Y_array[i].shape[1]))\n",
    "    print (\"Python Puro:\", end = \" \")\n",
    "    t_hausdorff = %timeit -o hausdorff_metric(X_array[i], Y_array[i])\n",
    "    print (\"Numba\" + \" \" * 6 + \":\", end = \" \")\n",
    "    time_array.append(t_hausdorff)\n",
    "    t_hausdorff_numba = %timeit -o hausdorff_metric_numba(X_array[i], Y_array[i])\n",
    "    time_numba_array.append(t_hausdorff_numba)\n",
    "    print()"
   ]
  },
  {
   "cell_type": "markdown",
   "metadata": {
    "collapsed": false
   },
   "source": [
    "En seguida, obtenemos el cociente entre el tiempo de ejecución con python puro y numba para reealizar nuestro análisis:"
   ]
  },
  {
   "cell_type": "code",
   "execution_count": 8,
   "metadata": {
    "collapsed": false
   },
   "outputs": [
    {
     "name": "stdout",
     "output_type": "stream",
     "text": [
      "Caso 1: Matrix X de 5x3. Matriz Y de 3x3\n",
      "Mejora: 11.175770714986275 veces\n",
      "\n",
      "Caso 2: Matrix X de 8x3. Matriz Y de 4x3\n",
      "Mejora: 11.531058905773481 veces\n",
      "\n",
      "Caso 3: Matrix X de 13x3. Matriz Y de 7x3\n",
      "Mejora: 11.022459660560628 veces\n",
      "\n",
      "Caso 4: Matrix X de 21x3. Matriz Y de 11x3\n",
      "Mejora: 11.084870808390782 veces\n",
      "\n",
      "Caso 5: Matrix X de 34x3. Matriz Y de 18x3\n",
      "Mejora: 10.896115652520042 veces\n",
      "\n",
      "Caso 6: Matrix X de 55x3. Matriz Y de 29x3\n",
      "Mejora: 10.8197184040374 veces\n",
      "\n",
      "Caso 7: Matrix X de 89x3. Matriz Y de 47x3\n",
      "Mejora: 10.972601861679095 veces\n",
      "\n",
      "Caso 8: Matrix X de 144x3. Matriz Y de 76x3\n",
      "Mejora: 10.607827320103583 veces\n",
      "\n",
      "Caso 9: Matrix X de 233x3. Matriz Y de 123x3\n",
      "Mejora: 10.829321087062112 veces\n",
      "\n",
      "Caso 10: Matrix X de 377x3. Matriz Y de 199x3\n",
      "Mejora: 10.580548379138689 veces\n",
      "\n"
     ]
    }
   ],
   "source": [
    "for i in range(10):\n",
    "    print (\"Caso \" + str(i + 1) + \": \" + \"Matrix X de \" + str(X_array[i].shape[0]) + \"x\" + str(X_array[i].shape[1]) \\\n",
    "          + \". Matriz Y de \" + str(Y_array[i].shape[0]) + \"x\" + str(Y_array[i].shape[1]))\n",
    "    print(\"Mejora: {0} veces\".format(time_array[i].best/time_numba_array[i].best))\n",
    "    print ()"
   ]
  },
  {
   "cell_type": "markdown",
   "metadata": {
    "collapsed": true
   },
   "source": [
    "De acuerdo a lo anterior, se logra observar que en todas las pruebas realizadas, la ejecución con numba siempre es alrededor de 10 veces más rápido."
   ]
  },
  {
   "cell_type": "markdown",
   "metadata": {},
   "source": [
    "# 4.&nbsp;&nbsp;&nbsp;&nbsp; Conclusiones"
   ]
  },
  {
   "cell_type": "markdown",
   "metadata": {},
   "source": [
    "En la presente experiencia, se ha comprobado empíricamente que ejecutar el mismo código directamente en la máquina (a bajo nivel), resulta mucho más rápido que ejecutarlo a través de un iterprete, como es el caso de python puro."
   ]
  }
 ],
 "metadata": {
  "kernelspec": {
   "display_name": "Python 3",
   "language": "python",
   "name": "python3"
  },
  "language_info": {
   "codemirror_mode": {
    "name": "ipython",
    "version": 3
   },
   "file_extension": ".py",
   "mimetype": "text/x-python",
   "name": "python",
   "nbconvert_exporter": "python",
   "pygments_lexer": "ipython3",
   "version": "3.6.0"
  }
 },
 "nbformat": 4,
 "nbformat_minor": 2
}
