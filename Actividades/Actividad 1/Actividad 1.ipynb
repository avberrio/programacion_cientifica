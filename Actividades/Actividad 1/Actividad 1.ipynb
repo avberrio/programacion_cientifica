{
 "cells": [
  {
   "cell_type": "markdown",
   "metadata": {},
   "source": [
    "<center>\n",
    "    <h1> Programación Científica </h1>\n",
    "    <h1> Actividad Clase 1 </h1>\n",
    "    <h3> Aldo Berrios Valenzuela  </h3>\n",
    "    <h3> 201304018-7 </h3>\n",
    "    <h4> `aldo.berrios.13@sansano.usm.cl` </h4>\n",
    "</center>"
   ]
  },
  {
   "cell_type": "code",
   "execution_count": 15,
   "metadata": {
    "collapsed": true
   },
   "outputs": [],
   "source": [
    "from IPython.core.magic import register_cell_magic"
   ]
  },
  {
   "cell_type": "code",
   "execution_count": 32,
   "metadata": {
    "collapsed": false
   },
   "outputs": [],
   "source": [
    "@register_cell_magic\n",
    "def two_to_three_ext(line, cell):\n",
    "    ip = get_ipython()\n",
    "    source_filename = '_temp.py'\n",
    "    conditions = [\"if\", \"elif\", \"else\", \"while\", \"for\"]\n",
    "    resultado = \"\"\n",
    "    linea = cell.split('\\n')\n",
    "    for i in range(len(linea)):\n",
    "        if (\"print \" in linea[i]):\n",
    "            count = 0\n",
    "            for caracter in linea[i]:\n",
    "                if (caracter == ' '):\n",
    "                    count += 1\n",
    "                else:\n",
    "                    break\n",
    "            linea[i] = count * ' ' + \"print(\"+ \" \".join(linea[:1])+ \")\"\n",
    "        elif \"raw_input\" in linea[i]:\n",
    "            linea[i] = linea[i].replace('raw_input', 'input')\n",
    "        resultado += linea[i] + \"\\n\"\n",
    "\n",
    "    # We write the code to the python file.\n",
    "    print(resultado)\n",
    "    with open(source_filename, 'w') as f: \n",
    "        f.write(resultado)\n",
    "    # We execute the executable and return the output.\n",
    "    output = ip.getoutput('python {0:s}'.format(source_filename))"
   ]
  },
  {
   "cell_type": "code",
   "execution_count": 33,
   "metadata": {
    "collapsed": false
   },
   "outputs": [
    {
     "name": "stdout",
     "output_type": "stream",
     "text": [
      "a = float(input(\"Ingrese a: \"))\n",
      "b = float(input(\"Ingrese b: \"))\n",
      "c = float(input(\"Ingrese c: \"))\n",
      "\n",
      "if a>(b+c) or b>(a+c) or c>(a+b):\n",
      "    print(a = float(input(\"Ingrese a: \")))\n",
      "elif a==b and b==c:\n",
      "    print(a = float(input(\"Ingrese a: \")))\n",
      "elif a==b or b==c or a==c:\n",
      "    print(a = float(input(\"Ingrese a: \")))\n",
      "else:\n",
      "    print(a = float(input(\"Ingrese a: \")))\n",
      "\n"
     ]
    }
   ],
   "source": [
    "%%two_to_three_ext\n",
    "a = float(raw_input(\"Ingrese a: \"))\n",
    "b = float(raw_input(\"Ingrese b: \"))\n",
    "c = float(raw_input(\"Ingrese c: \"))\n",
    "\n",
    "if a>(b+c) or b>(a+c) or c>(a+b):\n",
    "    print \"Ingrese un traingulo valido.\"\n",
    "elif a==b and b==c:\n",
    "    print \"Triangulo equilatero.\"\n",
    "elif a==b or b==c or a==c:\n",
    "    print \"Triangulo isoceles.\"\n",
    "else:\n",
    "    print \"Triangulo escaleno.\""
   ]
  },
  {
   "cell_type": "markdown",
   "metadata": {
    "collapsed": true
   },
   "source": [
    "El programa cumple con lo exigido."
   ]
  }
 ],
 "metadata": {
  "kernelspec": {
   "display_name": "Python 3",
   "language": "python",
   "name": "python3"
  },
  "language_info": {
   "codemirror_mode": {
    "name": "ipython",
    "version": 3
   },
   "file_extension": ".py",
   "mimetype": "text/x-python",
   "name": "python",
   "nbconvert_exporter": "python",
   "pygments_lexer": "ipython3",
   "version": "3.6.0"
  }
 },
 "nbformat": 4,
 "nbformat_minor": 2
}
