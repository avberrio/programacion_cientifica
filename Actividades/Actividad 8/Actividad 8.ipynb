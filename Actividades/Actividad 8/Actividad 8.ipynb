{
 "cells": [
  {
   "cell_type": "markdown",
   "metadata": {},
   "source": [
    "<center>\n",
    "    <h1> Programación Científica </h1>\n",
    "    <h1> Actividad Clase 8 </h1>\n",
    "    <h3> Aldo Berrios Valenzuela  </h3>\n",
    "    <h3> 201304018-7 </h3>\n",
    "    <h4> `aldo.berrios.13@sansano.usm.cl` </h4>\n",
    "</center>"
   ]
  },
  {
   "cell_type": "markdown",
   "metadata": {},
   "source": [
    "# 1. &nbsp;&nbsp;&nbsp;&nbsp; Preliminares"
   ]
  },
  {
   "cell_type": "markdown",
   "metadata": {},
   "source": [
    "Importamos las librerías y definimos las funciones que usaremos para el desarrollo de la experiencia:"
   ]
  },
  {
   "cell_type": "code",
   "execution_count": 1,
   "metadata": {
    "collapsed": true
   },
   "outputs": [],
   "source": [
    "import numba\n",
    "import numpy as np\n",
    "import matplotlib.pyplot as plt\n",
    "import threading\n",
    "import multiprocessing\n",
    "from ipyparallel import Client\n",
    "\n",
    "def image_plot(img):\n",
    "    \"\"\"\n",
    "    img is an (nx,ny,3) numpy.array\n",
    "    \"\"\"\n",
    "    plt.figure(figsize=(12,12))\n",
    "    plt.imshow(img)\n",
    "    plt.axis('off')\n",
    "    plt.show()"
   ]
  },
  {
   "cell_type": "markdown",
   "metadata": {},
   "source": [
    "Posteriormente, cargamos la imagen que vamos a utilizar:"
   ]
  },
  {
   "cell_type": "code",
   "execution_count": 2,
   "metadata": {
    "collapsed": true
   },
   "outputs": [],
   "source": [
    "img = plt.imread('heic1608b.jpg', format='jpeg')[0:8660,:,:]"
   ]
  },
  {
   "cell_type": "markdown",
   "metadata": {},
   "source": [
    "Posteriormente, definimos la función que entrega como resultado la matriz kernel gaussiana de $n\\times n$:"
   ]
  },
  {
   "cell_type": "code",
   "execution_count": 3,
   "metadata": {
    "collapsed": true
   },
   "outputs": [],
   "source": [
    "def gaussian_kernel(shape=(3,3),sigma=0.5):\n",
    "    \"\"\"\n",
    "    2D gaussian mask - should give the same result as MATLAB's\n",
    "    fspecial('gaussian',[shape],[sigma])\n",
    "    \"\"\"\n",
    "    m,n = [(ss-1.)/2. for ss in shape]\n",
    "    y,x = np.ogrid[-m:m+1,-n:n+1]\n",
    "    h = np.exp( -(x*x + y*y) / (2.*sigma*sigma) )\n",
    "    h[ h < np.finfo(h.dtype).eps*h.max() ] = 0\n",
    "    sumh = h.sum()\n",
    "    if sumh != 0:\n",
    "        h /= sumh\n",
    "    return h"
   ]
  },
  {
   "cell_type": "markdown",
   "metadata": {},
   "source": [
    "Definimos la función que aplicará el kernel gaussiano de $3\\times 3$ sobre la imagen generada anteriormente."
   ]
  },
  {
   "cell_type": "code",
   "execution_count": 4,
   "metadata": {
    "collapsed": true
   },
   "outputs": [],
   "source": [
    "def apply_kernel(K, vectorized_image):\n",
    "    result = np.zeros((vectorized_image.shape[0] - 1, vectorized_image.shape[1] - 1, 3))\n",
    "    for channel in range(3):\n",
    "        for i in range(1, vectorized_image.shape[0] - 1):        # Recorremos las filas\n",
    "            for j in range(1, vectorized_image.shape[1] - 1):    # Recorremos las columnas\n",
    "                result[i, j, channel] = np.sum(vectorized_image[i - 1:i + 2, j - 1:j + 2, channel] * K)\n",
    "    return result[1:, 1:, :]"
   ]
  },
  {
   "cell_type": "markdown",
   "metadata": {},
   "source": [
    "Notar que el algoritmo propuesto es secuencial y se paralelizará para el posterior análisis de resultados"
   ]
  },
  {
   "cell_type": "markdown",
   "metadata": {},
   "source": [
    "# 2. &nbsp;&nbsp;&nbsp;&nbsp; Desarrollo"
   ]
  },
  {
   "cell_type": "markdown",
   "metadata": {},
   "source": [
    "## 2.1. &nbsp;&nbsp;&nbsp; Pregunta 1"
   ]
  },
  {
   "cell_type": "markdown",
   "metadata": {},
   "source": [
    "Redefinimos la función `apply_kernel`, de forma tal que en lugar de recibir la imagen completa, sólo recibirá un canal de la imagen:"
   ]
  },
  {
   "cell_type": "code",
   "execution_count": 5,
   "metadata": {
    "collapsed": true
   },
   "outputs": [],
   "source": [
    "def apply_kernel(vectorized_image):\n",
    "    import numpy as np\n",
    "    K = np.array([[ 0.01134374,  0.08381951,  0.01134374],\n",
    "       [ 0.08381951,  0.61934703,  0.08381951],\n",
    "       [ 0.01134374,  0.08381951,  0.01134374]])\n",
    "    result = np.zeros((vectorized_image.shape[0] - 1, vectorized_image.shape[1] - 1))\n",
    "    for i in range(1, vectorized_image.shape[0] - 1):        # Recorremos las filas\n",
    "        for j in range(1, vectorized_image.shape[1] - 1):    # Recorremos las columnas\n",
    "            result[i, j] = np.sum(vectorized_image[i - 1:i + 2, j - 1:j + 2] * K)\n",
    "    return result[1:, 1:]"
   ]
  },
  {
   "cell_type": "markdown",
   "metadata": {},
   "source": [
    "Luego, separamos la imágen original en 3 matrices. Cada una de esta corresponde a un canal RGB:"
   ]
  },
  {
   "cell_type": "code",
   "execution_count": 6,
   "metadata": {
    "collapsed": true
   },
   "outputs": [],
   "source": [
    "r_img = img[:, :, 0]\n",
    "g_img = img[:, :, 1]\n",
    "b_img = img[:, :, 2]"
   ]
  },
  {
   "cell_type": "markdown",
   "metadata": {},
   "source": [
    "Posteriormente, instanciamos un cliente"
   ]
  },
  {
   "cell_type": "code",
   "execution_count": 7,
   "metadata": {
    "collapsed": false
   },
   "outputs": [],
   "source": [
    "rc = Client()"
   ]
  },
  {
   "cell_type": "markdown",
   "metadata": {},
   "source": [
    "Luego, creamos un balanceador de carga:"
   ]
  },
  {
   "cell_type": "code",
   "execution_count": 8,
   "metadata": {
    "collapsed": true
   },
   "outputs": [],
   "source": [
    "v = rc.load_balanced_view()"
   ]
  },
  {
   "cell_type": "markdown",
   "metadata": {},
   "source": [
    "Luego, aplicamos el kernel a cada uno de los canales de forma paralela:"
   ]
  },
  {
   "cell_type": "code",
   "execution_count": 9,
   "metadata": {
    "collapsed": false
   },
   "outputs": [],
   "source": [
    "args = [r_img, g_img, b_img]\n",
    "ar = v.map(apply_kernel, args)"
   ]
  },
  {
   "cell_type": "markdown",
   "metadata": {},
   "source": [
    "Debido a que el código anterior trabaja de forma asincrónica, comprobaremos que todo el cálculo haya terminado con:"
   ]
  },
  {
   "cell_type": "code",
   "execution_count": 10,
   "metadata": {
    "collapsed": false
   },
   "outputs": [
    {
     "data": {
      "text/plain": [
       "False"
      ]
     },
     "execution_count": 10,
     "metadata": {},
     "output_type": "execute_result"
    }
   ],
   "source": [
    "ar.ready()"
   ]
  },
  {
   "cell_type": "markdown",
   "metadata": {},
   "source": [
    "Transcurrido un tiempo, comprobamos otra vez:"
   ]
  },
  {
   "cell_type": "code",
   "execution_count": null,
   "metadata": {
    "collapsed": false
   },
   "outputs": [
    {
     "data": {
      "text/plain": [
       "False"
      ]
     },
     "execution_count": 11,
     "metadata": {},
     "output_type": "execute_result"
    }
   ],
   "source": [
    "ar.ready()"
   ]
  },
  {
   "cell_type": "markdown",
   "metadata": {},
   "source": [
    "### Ahora que tenemos cada canal filtrado, mostramos el resultado por pantalla:"
   ]
  },
  {
   "cell_type": "code",
   "execution_count": null,
   "metadata": {
    "collapsed": false
   },
   "outputs": [
    {
     "name": "stderr",
     "output_type": "stream",
     "text": [
      "/anaconda/lib/python3.6/site-packages/matplotlib/cm.py:264: RuntimeWarning: overflow encountered in multiply\n",
      "  xx = (xx * 255).astype(np.uint8)\n"
     ]
    }
   ],
   "source": [
    "filtered_image = np.zeros((ar.result()[0].shape[0], ar.result()[0].shape[1], 3))\n",
    "filtered_image[:, :, 0] = ar.result()[0]\n",
    "filtered_image[:, :, 1] = ar.result()[1]\n",
    "filtered_image[:, :, 2] = ar.result()[2]\n",
    "image_plot(filtered_image)"
   ]
  },
  {
   "cell_type": "code",
   "execution_count": null,
   "metadata": {
    "collapsed": false
   },
   "outputs": [],
   "source": [
    "ar.ready()"
   ]
  },
  {
   "cell_type": "code",
   "execution_count": null,
   "metadata": {
    "collapsed": true
   },
   "outputs": [],
   "source": []
  }
 ],
 "metadata": {
  "kernelspec": {
   "display_name": "Python 3",
   "language": "python",
   "name": "python3"
  },
  "language_info": {
   "codemirror_mode": {
    "name": "ipython",
    "version": 3
   },
   "file_extension": ".py",
   "mimetype": "text/x-python",
   "name": "python",
   "nbconvert_exporter": "python",
   "pygments_lexer": "ipython3",
   "version": "3.6.0"
  }
 },
 "nbformat": 4,
 "nbformat_minor": 2
}
