{
 "cells": [
  {
   "cell_type": "markdown",
   "metadata": {},
   "source": [
    "<center>\n",
    "    <h1> Programación Científica </h1>\n",
    "    <h1> Actividad Clase 6 </h1>\n",
    "    <h3> Aldo Berrios Valenzuela  </h3>\n",
    "    <h3> 201304018-7 </h3>\n",
    "    <h4> `aldo.berrios.13@sansano.usm.cl` </h4>\n",
    "</center>"
   ]
  },
  {
   "cell_type": "markdown",
   "metadata": {
    "collapsed": true
   },
   "source": [
    "# 1. &nbsp;&nbsp;&nbsp;&nbsp; Preliminares"
   ]
  },
  {
   "cell_type": "markdown",
   "metadata": {},
   "source": [
    "Importamos las librerías y funciones que usaremos durante la experiencia:"
   ]
  },
  {
   "cell_type": "code",
   "execution_count": 4,
   "metadata": {
    "collapsed": false
   },
   "outputs": [
    {
     "name": "stdout",
     "output_type": "stream",
     "text": [
      "The memory_profiler extension is already loaded. To reload it, use:\n",
      "  %reload_ext memory_profiler\n"
     ]
    }
   ],
   "source": [
    "import numba\n",
    "import numexpr as ne\n",
    "import numpy as np\n",
    "import matplotlib.pyplot as roberplot\n",
    "import matplotlib.image as mpimg\n",
    "\n",
    "%load_ext memory_profiler\n",
    "\n",
    "def rgb2gray(rgb):\n",
    "    return np.dot(rgb[...,:3], [0.299, 0.587, 0.114])\n",
    "\n",
    "def image_plot(img):\n",
    "    roberplot.figure(figsize=(10,5))\n",
    "    roberplot.imshow(img, cmap='gray')\n",
    "    roberplot.axis('off')\n",
    "    roberplot.show()\n",
    "    \n",
    "def histogram_plot(h):\n",
    "    roberplot.figure(figsize=(5,10))\n",
    "    roberplot.plot(range(len(h)), h)\n",
    "    roberplot.xlim([-5,260])\n",
    "    roberplot.ylim([0,200000])\n",
    "    roberplot.xlabel('Feature index')\n",
    "    roberplot.ylabel('Number of repetitions')\n",
    "    roberplot.grid()\n",
    "    roberplot.show()"
   ]
  },
  {
   "cell_type": "markdown",
   "metadata": {},
   "source": [
    "y las funciones relacionadas con el *Local Binary Pattern Representation*:"
   ]
  },
  {
   "cell_type": "code",
   "execution_count": 2,
   "metadata": {
    "collapsed": true
   },
   "outputs": [],
   "source": [
    "def lbp(region):\n",
    "    \"\"\"\n",
    "    Region is a 3x3 ndarray\n",
    "    \"\"\"\n",
    "    ret = (region > region[1,1]).astype(int)\n",
    "    return (2**7)*ret[0,0] + (2**6)*ret[0,1] + (2**5)*ret[0,2] + (2**4)*ret[1,2] + (2**3)*ret[2,2] + \\\n",
    "           (2**2)*ret[2,1] + (2**1)*ret[2,0] + (2**0)*ret[1,0]\n",
    "\n",
    "\n",
    "def lbp_representation(image):\n",
    "    \"\"\"\n",
    "    Compute lbp representation of image\n",
    "    \"\"\"\n",
    "    m,n = image.shape\n",
    "    ret = np.empty((m-2,n-2))\n",
    "    for i in range(1,m-1):\n",
    "        for j in range(1,n-1):\n",
    "            ret[i-1,j-1] = lbp(image[i-1:i+2, j-1:j+2])\n",
    "    return ret\n",
    "\n",
    "\n",
    "def lbp_histogram(image):\n",
    "    \"\"\"\n",
    "    Compute lbp histogram representation of image\n",
    "    \"\"\"\n",
    "    lbp_image = lbp_representation(image)\n",
    "    m,n = lbp_image.shape\n",
    "    hist = np.zeros(256)\n",
    "    for i in range(m):\n",
    "        for j in range(n):\n",
    "            hist[lbp_image[i,j]] += 1\n",
    "    return hist "
   ]
  },
  {
   "cell_type": "markdown",
   "metadata": {},
   "source": [
    "# 2. &nbsp;&nbsp;&nbsp;&nbsp; Preguntas"
   ]
  },
  {
   "cell_type": "markdown",
   "metadata": {},
   "source": [
    "## 2.1. &nbsp;&nbsp;&nbsp; Detección de Cuellos de Botella"
   ]
  },
  {
   "cell_type": "markdown",
   "metadata": {},
   "source": [
    "Para encontrar los cuellos de botella en `lbp_histogram(image)` debemos hacer un line profiling y así, buscar la línea que más demora en ejecutarse para posteriormente hacer los cambios respectivos. Para ello, comenzaremos importando el módulo `line_profiler`:"
   ]
  },
  {
   "cell_type": "code",
   "execution_count": 8,
   "metadata": {
    "collapsed": false
   },
   "outputs": [
    {
     "name": "stdout",
     "output_type": "stream",
     "text": [
      "The line_profiler extension is already loaded. To reload it, use:\n",
      "  %reload_ext line_profiler\n"
     ]
    }
   ],
   "source": [
    "%load_ext line_profiler"
   ]
  },
  {
   "cell_type": "code",
   "execution_count": 9,
   "metadata": {
    "collapsed": true
   },
   "outputs": [],
   "source": [
    "img = mpimg.imread('doge.jpg')\n",
    "img = rgb2gray(img)"
   ]
  },
  {
   "cell_type": "code",
   "execution_count": 11,
   "metadata": {
    "collapsed": false
   },
   "outputs": [
    {
     "name": "stderr",
     "output_type": "stream",
     "text": [
      "/anaconda/lib/python3.6/site-packages/ipykernel/__main__.py:30: VisibleDeprecationWarning: using a non-integer number instead of an integer will result in an error in the future\n"
     ]
    },
    {
     "name": "stdout",
     "output_type": "stream",
     "text": [
      "\n",
      "*** Profile printout saved to text file 'lbp_histogram_lprof'. \n"
     ]
    }
   ],
   "source": [
    "%lprun -T lbp_histogram_lprof -f lbp_histogram lbp_histogram(img)"
   ]
  },
  {
   "cell_type": "markdown",
   "metadata": {},
   "source": [
    "Luego, procedemos a leer los resultados del line profiling anterior:"
   ]
  },
  {
   "cell_type": "code",
   "execution_count": 12,
   "metadata": {
    "collapsed": false
   },
   "outputs": [
    {
     "name": "stdout",
     "output_type": "stream",
     "text": [
      "Timer unit: 1e-06 s\n",
      "\n",
      "Total time: 50.6859 s\n",
      "File: <ipython-input-2-e53e5d40ad48>\n",
      "Function: lbp_histogram at line 21\n",
      "\n",
      "Line #      Hits         Time  Per Hit   % Time  Line Contents\n",
      "==============================================================\n",
      "    21                                           def lbp_histogram(image):\n",
      "    22                                               \"\"\"\n",
      "    23                                               Compute lbp histogram representation of image\n",
      "    24                                               \"\"\"\n",
      "    25         1     34782100 34782100.0     68.6      lbp_image = lbp_representation(image)\n",
      "    26         1            3      3.0      0.0      m,n = lbp_image.shape\n",
      "    27         1           10     10.0      0.0      hist = np.zeros(256)\n",
      "    28      1465          670      0.5      0.0      for i in range(m):\n",
      "    29   3576552      1782422      0.5      3.5          for j in range(n):\n",
      "    30   3575088     14120691      3.9     27.9              hist[lbp_image[i,j]] += 1\n",
      "    31         1            1      1.0      0.0      return hist\n"
     ]
    }
   ],
   "source": [
    "print(open('lbp_histogram_lprof', 'r').read())"
   ]
  },
  {
   "cell_type": "markdown",
   "metadata": {},
   "source": [
    "Como podemos observar, la función `lbp_histogram(image)` se demora bastante en ejecutar las lineas `lbp_image = lbp_representation(image)` y `hist[lbp_image[i,j]] += 1` ya se que llevan el mayor porcentaje en tiempos de ejecución del algoritmo."
   ]
  },
  {
   "cell_type": "markdown",
   "metadata": {},
   "source": [
    "## 2.2. &nbsp;&nbsp;&nbsp; Modificación de Funciones para solucionar cuellos de botella"
   ]
  },
  {
   "cell_type": "markdown",
   "metadata": {},
   "source": [
    "Entre las primeras cosas que haremos para solucionar los cuellos de botella de `lbp_histogram(image)` será cambiar las líneas:\n",
    "```python\n",
    "for i in range(m):\n",
    "    for j in range(n):\n",
    "        hist[lbp_image[i,j]] += 1\n",
    "```\n",
    "que lo único que hacen es contar cuantas veces se repite un número del 0 al 255 en `lbp_image`. Resulta mucho más conveniente iterar desde el 0 al 255 y usar funciones de numpy que nos diga cuantas veces se repite este número. Para ello, usaremos `np.count_nonzero`. En consiguiente reemplazamos el doble `for` mostrado anteriormente por:\n",
    "```python\n",
    "for i in range(256):\n",
    "    hist[i] = np.count_nonzero(lbp_image == i)\n",
    "```\n"
   ]
  },
  {
   "cell_type": "markdown",
   "metadata": {},
   "source": [
    "Por otro lado, en el profiling arrojado en la sección 2.1, existe otro cuello de botella dada por la línea:\n",
    "```python\n",
    "lbp_image = lbp_representation(image)\n",
    "```\n",
    "En consecuencia, haremos un line profiling para detectar los cuellos de botella en `lbp_representation(image)`:"
   ]
  },
  {
   "cell_type": "code",
   "execution_count": 24,
   "metadata": {
    "collapsed": false
   },
   "outputs": [
    {
     "name": "stdout",
     "output_type": "stream",
     "text": [
      "\n",
      "*** Profile printout saved to text file 'lbp_representation_lprof'. \n"
     ]
    }
   ],
   "source": [
    "%lprun -T lbp_representation_lprof -f lbp_representation lbp_representation(img)"
   ]
  },
  {
   "cell_type": "markdown",
   "metadata": {},
   "source": [
    "Posteriormente, leemos el resultado"
   ]
  },
  {
   "cell_type": "code",
   "execution_count": 25,
   "metadata": {
    "collapsed": false
   },
   "outputs": [
    {
     "name": "stdout",
     "output_type": "stream",
     "text": [
      "Timer unit: 1e-06 s\n",
      "\n",
      "Total time: 34.3836 s\n",
      "File: <ipython-input-2-e53e5d40ad48>\n",
      "Function: lbp_representation at line 9\n",
      "\n",
      "Line #      Hits         Time  Per Hit   % Time  Line Contents\n",
      "==============================================================\n",
      "     9                                           def lbp_representation(image):\n",
      "    10                                               \"\"\"\n",
      "    11                                               Compute lbp representation of image\n",
      "    12                                               \"\"\"\n",
      "    13         1            4      4.0      0.0      m,n = image.shape\n",
      "    14         1           10     10.0      0.0      ret = np.empty((m-2,n-2))\n",
      "    15      1465          635      0.4      0.0      for i in range(1,m-1):\n",
      "    16   3576552      1874693      0.5      5.5          for j in range(1,n-1):\n",
      "    17   3575088     32508209      9.1     94.5              ret[i-1,j-1] = lbp(image[i-1:i+2, j-1:j+2])\n",
      "    18         1            1      1.0      0.0      return ret\n"
     ]
    }
   ],
   "source": [
    "print(open('lbp_representation_lprof', 'r').read())"
   ]
  },
  {
   "cell_type": "markdown",
   "metadata": {},
   "source": [
    "Del informe anterior, se puede observar que el cuello de botella de la función `lbp_representation(image)` está en la línea \n",
    "```python\n",
    "ret[i-1,j-1] = lbp(image[i-1:i+2, j-1:j+2])\n",
    "```\n",
    "que ocupa un 94.5% de tiempo de ejecución de `lbp_representation(image)`. Esto quiere decir que algo malo hay en `lbp(region)`.\n",
    "\n",
    "De la misma forma que lo hicimos con las otras funciones, haremos un line profiling para detectar los cuellos de botella de `lbp(region)`. Pero primero, obtendremos un valor de prueba que se le pasa a `lbp` para poder hacer el profiling correspondiente:"
   ]
  },
  {
   "cell_type": "code",
   "execution_count": 27,
   "metadata": {
    "collapsed": false
   },
   "outputs": [
    {
     "data": {
      "text/plain": [
       "array([[ 134.795,  134.795,  135.795],\n",
       "       [ 134.795,  134.795,  135.795],\n",
       "       [ 134.795,  134.795,  135.795]])"
      ]
     },
     "execution_count": 27,
     "metadata": {},
     "output_type": "execute_result"
    }
   ],
   "source": [
    "i = 1\n",
    "j = 1\n",
    "img[i-1:i+2, j-1:j+2]"
   ]
  },
  {
   "cell_type": "markdown",
   "metadata": {},
   "source": [
    "Hacemos el line profiling de `lbp(region)`"
   ]
  },
  {
   "cell_type": "code",
   "execution_count": 28,
   "metadata": {
    "collapsed": false
   },
   "outputs": [
    {
     "name": "stdout",
     "output_type": "stream",
     "text": [
      "\n",
      "*** Profile printout saved to text file 'lbp_lprof'. \n"
     ]
    }
   ],
   "source": [
    "%lprun -T lbp_lprof -f lbp lbp(img[i-1:i+2, j-1:j+2])"
   ]
  },
  {
   "cell_type": "markdown",
   "metadata": {},
   "source": [
    "Leemos el resultado del profiling:"
   ]
  },
  {
   "cell_type": "code",
   "execution_count": 30,
   "metadata": {
    "collapsed": false
   },
   "outputs": [
    {
     "name": "stdout",
     "output_type": "stream",
     "text": [
      "Timer unit: 1e-06 s\n",
      "\n",
      "Total time: 4.3e-05 s\n",
      "File: <ipython-input-2-e53e5d40ad48>\n",
      "Function: lbp at line 1\n",
      "\n",
      "Line #      Hits         Time  Per Hit   % Time  Line Contents\n",
      "==============================================================\n",
      "     1                                           def lbp(region):\n",
      "     2                                               \"\"\"\n",
      "     3                                               Region is a 3x3 ndarray\n",
      "     4                                               \"\"\"\n",
      "     5         1           36     36.0     83.7      ret = (region > region[1,1]).astype(int)\n",
      "     6         1            7      7.0     16.3      return (2**7)*ret[0,0] + (2**6)*ret[0,1] + (2**5)*ret[0,2] + (2**4)*ret[1,2] + (2**3)*ret[2,2] +            (2**2)*ret[2,1] + (2**1)*ret[2,0] + (2**0)*ret[1,0]\n"
     ]
    }
   ],
   "source": [
    "print(open('lbp_lprof', 'r').read())"
   ]
  },
  {
   "cell_type": "markdown",
   "metadata": {},
   "source": [
    "Tan sola una llamada de `lbp(region)` consume $43[\\mu s]$. Esto quiere decir que el verdadero problema se encuentra en la gran cantidad de llamadas de `lbp(region)` que se usan en `lbp_representation(image)`. Trataremos de optimizar esa parte de `lbp_representation(image)`."
   ]
  },
  {
   "cell_type": "code",
   "execution_count": null,
   "metadata": {
    "collapsed": true
   },
   "outputs": [],
   "source": []
  },
  {
   "cell_type": "code",
   "execution_count": null,
   "metadata": {
    "collapsed": true
   },
   "outputs": [],
   "source": []
  },
  {
   "cell_type": "markdown",
   "metadata": {},
   "source": [
    "# Borrador\n",
    "\n",
    "<p style=\"color: red\"> Código final que contiene todas las modificaciones necesarias que eliminan los cuellos de botella </p>"
   ]
  },
  {
   "cell_type": "code",
   "execution_count": null,
   "metadata": {
    "collapsed": true
   },
   "outputs": [],
   "source": [
    "def lbp_histogram_new(image):\n",
    "    \"\"\"\n",
    "    Compute lbp histogram representation of image\n",
    "    \"\"\"\n",
    "    lbp_image = lbp_representation(image)\n",
    "    m,n = lbp_image.shape\n",
    "    hist = np.zeros(256)\n",
    "    for i in range(256):\n",
    "        hist[i] = np.count_nonzero(lbp_image == i)\n",
    "    return hist"
   ]
  }
 ],
 "metadata": {
  "kernelspec": {
   "display_name": "Python 3",
   "language": "python",
   "name": "python3"
  },
  "language_info": {
   "codemirror_mode": {
    "name": "ipython",
    "version": 3
   },
   "file_extension": ".py",
   "mimetype": "text/x-python",
   "name": "python",
   "nbconvert_exporter": "python",
   "pygments_lexer": "ipython3",
   "version": "3.6.0"
  }
 },
 "nbformat": 4,
 "nbformat_minor": 2
}
