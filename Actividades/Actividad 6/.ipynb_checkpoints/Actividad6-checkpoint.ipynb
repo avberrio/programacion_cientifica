{
 "cells": [
  {
   "cell_type": "markdown",
   "metadata": {},
   "source": [
    "<center>\n",
    "    <h1> Programación Científica </h1>\n",
    "    <h1> Actividad Clase 6 </h1>\n",
    "    <h3> Aldo Berrios Valenzuela  </h3>\n",
    "    <h3> 201304018-7 </h3>\n",
    "    <h4> `aldo.berrios.13@sansano.usm.cl` </h4>\n",
    "</center>"
   ]
  },
  {
   "cell_type": "markdown",
   "metadata": {
    "collapsed": true
   },
   "source": [
    "# 1. &nbsp;&nbsp;&nbsp;&nbsp; Preliminares"
   ]
  },
  {
   "cell_type": "markdown",
   "metadata": {},
   "source": [
    "Importamos las librerías y funciones que usaremos durante la experiencia:"
   ]
  },
  {
   "cell_type": "code",
   "execution_count": 4,
   "metadata": {
    "collapsed": false
   },
   "outputs": [
    {
     "name": "stdout",
     "output_type": "stream",
     "text": [
      "The memory_profiler extension is already loaded. To reload it, use:\n",
      "  %reload_ext memory_profiler\n"
     ]
    }
   ],
   "source": [
    "import numba\n",
    "import numexpr as ne\n",
    "import numpy as np\n",
    "import matplotlib.pyplot as roberplot\n",
    "import matplotlib.image as mpimg\n",
    "\n",
    "%load_ext memory_profiler\n",
    "\n",
    "def rgb2gray(rgb):\n",
    "    return np.dot(rgb[...,:3], [0.299, 0.587, 0.114])\n",
    "\n",
    "def image_plot(img):\n",
    "    roberplot.figure(figsize=(10,5))\n",
    "    roberplot.imshow(img, cmap='gray')\n",
    "    roberplot.axis('off')\n",
    "    roberplot.show()\n",
    "    \n",
    "def histogram_plot(h):\n",
    "    roberplot.figure(figsize=(5,10))\n",
    "    roberplot.plot(range(len(h)), h)\n",
    "    roberplot.xlim([-5,260])\n",
    "    roberplot.ylim([0,200000])\n",
    "    roberplot.xlabel('Feature index')\n",
    "    roberplot.ylabel('Number of repetitions')\n",
    "    roberplot.grid()\n",
    "    roberplot.show()"
   ]
  },
  {
   "cell_type": "markdown",
   "metadata": {},
   "source": [
    "y las funciones relacionadas con el *Local Binary Pattern Representation*:"
   ]
  },
  {
   "cell_type": "code",
   "execution_count": 2,
   "metadata": {
    "collapsed": true
   },
   "outputs": [],
   "source": [
    "def lbp(region):\n",
    "    \"\"\"\n",
    "    Region is a 3x3 ndarray\n",
    "    \"\"\"\n",
    "    ret = (region > region[1,1]).astype(int)\n",
    "    return (2**7)*ret[0,0] + (2**6)*ret[0,1] + (2**5)*ret[0,2] + (2**4)*ret[1,2] + (2**3)*ret[2,2] + \\\n",
    "           (2**2)*ret[2,1] + (2**1)*ret[2,0] + (2**0)*ret[1,0]\n",
    "\n",
    "\n",
    "def lbp_representation(image):\n",
    "    \"\"\"\n",
    "    Compute lbp representation of image\n",
    "    \"\"\"\n",
    "    m,n = image.shape\n",
    "    ret = np.empty((m-2,n-2))\n",
    "    for i in range(1,m-1):\n",
    "        for j in range(1,n-1):\n",
    "            ret[i-1,j-1] = lbp(image[i-1:i+2, j-1:j+2])\n",
    "    return ret\n",
    "\n",
    "\n",
    "def lbp_histogram(image):\n",
    "    \"\"\"\n",
    "    Compute lbp histogram representation of image\n",
    "    \"\"\"\n",
    "    lbp_image = lbp_representation(image)\n",
    "    m,n = lbp_image.shape\n",
    "    hist = np.zeros(256)\n",
    "    for i in range(m):\n",
    "        for j in range(n):\n",
    "            hist[lbp_image[i,j]] += 1\n",
    "    return hist "
   ]
  },
  {
   "cell_type": "markdown",
   "metadata": {},
   "source": [
    "# 2. &nbsp;&nbsp;&nbsp;&nbsp; Preguntas"
   ]
  },
  {
   "cell_type": "markdown",
   "metadata": {},
   "source": [
    "## 2.1. &nbsp;&nbsp;&nbsp; Detección de Cuellos de Botella"
   ]
  },
  {
   "cell_type": "markdown",
   "metadata": {},
   "source": [
    "Para encontrar los cuellos de botella en `lbp_histogram(image)` debemos hacer un line profiling y así, buscar la línea que más demora en ejecutarse para posteriormente hacer los cambios respectivos. Para ello, comenzaremos importando el módulo `line_profiler`:"
   ]
  },
  {
   "cell_type": "code",
   "execution_count": 8,
   "metadata": {
    "collapsed": false
   },
   "outputs": [
    {
     "name": "stdout",
     "output_type": "stream",
     "text": [
      "The line_profiler extension is already loaded. To reload it, use:\n",
      "  %reload_ext line_profiler\n"
     ]
    }
   ],
   "source": [
    "%load_ext line_profiler"
   ]
  },
  {
   "cell_type": "code",
   "execution_count": 9,
   "metadata": {
    "collapsed": true
   },
   "outputs": [],
   "source": [
    "img = mpimg.imread('doge.jpg')\n",
    "img = rgb2gray(img)"
   ]
  },
  {
   "cell_type": "code",
   "execution_count": 11,
   "metadata": {
    "collapsed": false
   },
   "outputs": [
    {
     "name": "stderr",
     "output_type": "stream",
     "text": [
      "/anaconda/lib/python3.6/site-packages/ipykernel/__main__.py:30: VisibleDeprecationWarning: using a non-integer number instead of an integer will result in an error in the future\n"
     ]
    },
    {
     "name": "stdout",
     "output_type": "stream",
     "text": [
      "\n",
      "*** Profile printout saved to text file 'lbp_histogram_lprof'. \n"
     ]
    }
   ],
   "source": [
    "%lprun -T lbp_histogram_lprof -f lbp_histogram lbp_histogram(img)"
   ]
  },
  {
   "cell_type": "markdown",
   "metadata": {},
   "source": [
    "Luego, procedemos a leer los resultados del line profiling anterior:"
   ]
  },
  {
   "cell_type": "code",
   "execution_count": 12,
   "metadata": {
    "collapsed": false
   },
   "outputs": [
    {
     "name": "stdout",
     "output_type": "stream",
     "text": [
      "Timer unit: 1e-06 s\n",
      "\n",
      "Total time: 50.6859 s\n",
      "File: <ipython-input-2-e53e5d40ad48>\n",
      "Function: lbp_histogram at line 21\n",
      "\n",
      "Line #      Hits         Time  Per Hit   % Time  Line Contents\n",
      "==============================================================\n",
      "    21                                           def lbp_histogram(image):\n",
      "    22                                               \"\"\"\n",
      "    23                                               Compute lbp histogram representation of image\n",
      "    24                                               \"\"\"\n",
      "    25         1     34782100 34782100.0     68.6      lbp_image = lbp_representation(image)\n",
      "    26         1            3      3.0      0.0      m,n = lbp_image.shape\n",
      "    27         1           10     10.0      0.0      hist = np.zeros(256)\n",
      "    28      1465          670      0.5      0.0      for i in range(m):\n",
      "    29   3576552      1782422      0.5      3.5          for j in range(n):\n",
      "    30   3575088     14120691      3.9     27.9              hist[lbp_image[i,j]] += 1\n",
      "    31         1            1      1.0      0.0      return hist\n"
     ]
    }
   ],
   "source": [
    "print(open('lbp_histogram_lprof', 'r').read())"
   ]
  },
  {
   "cell_type": "markdown",
   "metadata": {},
   "source": [
    "Como podemos observar, la función `lbp_histogram(image)` se demora bastante en ejecutar las lineas `lbp_image = lbp_representation(image)` y `hist[lbp_image[i,j]] += 1` ya se que llevan el mayor porcentaje en tiempos de ejecución del algoritmo."
   ]
  },
  {
   "cell_type": "markdown",
   "metadata": {},
   "source": [
    "## 2.2. &nbsp;&nbsp;&nbsp; Modificación de Funciones para solucionar cuellos de botella"
   ]
  },
  {
   "cell_type": "markdown",
   "metadata": {},
   "source": [
    "Entre las primeras cosas que haremos para solucionar los cuellos de botella de `lbp_histogram(image)` será cambiar las líneas:\n",
    "```python\n",
    "for i in range(m):\n",
    "    for j in range(n):\n",
    "        hist[lbp_image[i,j]] += 1\n",
    "```\n",
    "por"
   ]
  },
  {
   "cell_type": "code",
   "execution_count": 20,
   "metadata": {
    "collapsed": false
   },
   "outputs": [
    {
     "name": "stdout",
     "output_type": "stream",
     "text": [
      "[  8.66607000e+05   3.50750000e+04   4.69230000e+04   4.23060000e+04\n",
      "   3.17300000e+04   6.90000000e+02   4.44740000e+04   3.32190000e+04\n",
      "   4.59830000e+04   1.76100000e+03   2.43100000e+03   1.32100000e+03\n",
      "   4.71960000e+04   2.14700000e+03   1.60718000e+05   4.82060000e+04\n",
      "   3.57440000e+04   1.05600000e+03   2.47000000e+03   6.16000000e+02\n",
      "   1.66300000e+03   2.70000000e+01   3.54000000e+03   3.82000000e+02\n",
      "   4.63300000e+04   5.64000000e+02   1.51600000e+03   1.35800000e+03\n",
      "   5.78710000e+04   4.40000000e+02   7.26410000e+04   9.75700000e+03\n",
      "   4.92750000e+04   2.32800000e+03   4.97400000e+03   3.94200000e+03\n",
      "   2.36400000e+03   3.30000000e+01   4.25000000e+03   2.07400000e+03\n",
      "   2.36000000e+03   1.76000000e+02   1.45000000e+02   1.14000000e+02\n",
      "   1.61400000e+03   1.26000000e+02   4.88400000e+03   1.66400000e+03\n",
      "   4.54020000e+04   5.87000000e+02   3.86200000e+03   8.34000000e+02\n",
      "   3.54100000e+03   3.60000000e+01   6.51200000e+03   9.75000000e+02\n",
      "   1.64477000e+05   6.04000000e+02   4.21100000e+03   2.91500000e+03\n",
      "   6.91010000e+04   3.59000000e+02   4.78660000e+04   8.73700000e+03\n",
      "   3.21360000e+04   1.54400000e+03   2.44000000e+03   3.42500000e+03\n",
      "   8.82000000e+02   2.50000000e+01   5.87000000e+02   3.43000000e+02\n",
      "   1.60800000e+03   6.30000000e+01   1.85000000e+02   1.67000000e+02\n",
      "   5.03000000e+02   3.90000000e+01   6.03000000e+02   3.12000000e+02\n",
      "   6.53000000e+02   3.00000000e+01   4.40000000e+01   4.40000000e+01\n",
      "   2.20000000e+01   2.00000000e+00   3.80000000e+01   1.10000000e+01\n",
      "   1.85900000e+03   3.40000000e+01   1.48000000e+02   1.99000000e+02\n",
      "   4.10000000e+02   1.60000000e+01   3.39000000e+02   2.06000000e+02\n",
      "   4.44170000e+04   3.42300000e+03   3.98400000e+03   6.52000000e+03\n",
      "   6.01000000e+02   4.40000000e+01   1.01800000e+03   9.47000000e+02\n",
      "   1.45500000e+03   1.56000000e+02   1.26000000e+02   1.79000000e+02\n",
      "   1.51500000e+03   1.92000000e+02   3.46600000e+03   1.89200000e+03\n",
      "   3.33350000e+04   3.67000000e+02   2.14200000e+03   9.96000000e+02\n",
      "   3.33000000e+02   2.20000000e+01   9.89000000e+02   2.15000000e+02\n",
      "   4.50080000e+04   3.01000000e+02   1.43700000e+03   1.67700000e+03\n",
      "   9.74600000e+03   1.84000000e+02   9.08700000e+03   2.09000000e+03\n",
      "   4.29290000e+04   4.31390000e+04   2.28800000e+03   1.36007000e+05\n",
      "   1.53900000e+03   1.79000000e+03   1.41100000e+03   3.76120000e+04\n",
      "   4.29700000e+03   4.21700000e+03   1.90000000e+02   4.63300000e+03\n",
      "   4.40900000e+03   5.37300000e+03   5.67800000e+03   3.65240000e+04\n",
      "   1.72600000e+03   5.80000000e+02   1.65000000e+02   5.75000000e+02\n",
      "   6.70000000e+01   3.40000000e+01   1.78000000e+02   2.66000000e+02\n",
      "   4.29600000e+03   1.22800000e+03   1.22000000e+02   3.25600000e+03\n",
      "   5.48300000e+03   2.02000000e+03   3.43900000e+03   1.05970000e+04\n",
      "   2.33500000e+03   1.47300000e+03   1.49000000e+02   3.90900000e+03\n",
      "   1.84000000e+02   1.26000000e+02   1.21000000e+02   1.44700000e+03\n",
      "   1.90000000e+02   1.53000000e+02   3.80000000e+01   3.17000000e+02\n",
      "   1.37000000e+02   1.57000000e+02   2.64000000e+02   1.39500000e+03\n",
      "   1.36500000e+03   1.35600000e+03   1.10000000e+02   2.78100000e+03\n",
      "   1.26000000e+02   1.76000000e+02   1.91000000e+02   1.58800000e+03\n",
      "   5.08000000e+03   3.57000000e+03   3.06000000e+02   2.72220000e+04\n",
      "   3.39000000e+03   2.55300000e+03   2.60200000e+03   2.30440000e+04\n",
      "   4.47100000e+04   5.40810000e+04   1.57900000e+03   5.89600000e+04\n",
      "   4.94000000e+02   3.71000000e+02   1.44800000e+03   8.88000000e+03\n",
      "   4.50700000e+03   5.35000000e+03   1.53000000e+02   3.28300000e+03\n",
      "   1.38700000e+03   1.85300000e+03   4.13100000e+03   1.11790000e+04\n",
      "   2.00000000e+03   4.06000000e+02   1.24000000e+02   3.12000000e+02\n",
      "   4.60000000e+01   1.30000000e+01   2.18000000e+02   1.83000000e+02\n",
      "   5.37100000e+03   1.93300000e+03   1.54000000e+02   2.53800000e+03\n",
      "   1.96800000e+03   6.57000000e+02   2.83700000e+03   3.41000000e+03\n",
      "   1.56878000e+05   6.93410000e+04   4.71700000e+03   4.56320000e+04\n",
      "   6.04000000e+02   3.45000000e+02   3.44900000e+03   8.97400000e+03\n",
      "   5.43300000e+03   3.39600000e+03   3.30000000e+02   2.57900000e+03\n",
      "   3.97900000e+03   2.63600000e+03   3.10970000e+04   2.59080000e+04\n",
      "   4.63930000e+04   9.45300000e+03   1.60700000e+03   8.52300000e+03\n",
      "   2.58000000e+02   2.01000000e+02   1.79400000e+03   1.90800000e+03\n",
      "   3.81180000e+04   1.09460000e+04   1.35600000e+03   2.36650000e+04\n",
      "   1.13190000e+04   3.32000000e+03   2.55150000e+04   3.30700000e+04]\n"
     ]
    },
    {
     "data": {
      "text/plain": [
       "array([  8.66607000e+05,   3.50750000e+04,   4.69230000e+04,\n",
       "         4.23060000e+04,   3.17300000e+04,   6.90000000e+02,\n",
       "         4.44740000e+04,   3.32190000e+04,   4.59830000e+04,\n",
       "         1.76100000e+03,   2.43100000e+03,   1.32100000e+03,\n",
       "         4.71960000e+04,   2.14700000e+03,   1.60718000e+05,\n",
       "         4.82060000e+04,   3.57440000e+04,   1.05600000e+03,\n",
       "         2.47000000e+03,   6.16000000e+02,   1.66300000e+03,\n",
       "         2.70000000e+01,   3.54000000e+03,   3.82000000e+02,\n",
       "         4.63300000e+04,   5.64000000e+02,   1.51600000e+03,\n",
       "         1.35800000e+03,   5.78710000e+04,   4.40000000e+02,\n",
       "         7.26410000e+04,   9.75700000e+03,   4.92750000e+04,\n",
       "         2.32800000e+03,   4.97400000e+03,   3.94200000e+03,\n",
       "         2.36400000e+03,   3.30000000e+01,   4.25000000e+03,\n",
       "         2.07400000e+03,   2.36000000e+03,   1.76000000e+02,\n",
       "         1.45000000e+02,   1.14000000e+02,   1.61400000e+03,\n",
       "         1.26000000e+02,   4.88400000e+03,   1.66400000e+03,\n",
       "         4.54020000e+04,   5.87000000e+02,   3.86200000e+03,\n",
       "         8.34000000e+02,   3.54100000e+03,   3.60000000e+01,\n",
       "         6.51200000e+03,   9.75000000e+02,   1.64477000e+05,\n",
       "         6.04000000e+02,   4.21100000e+03,   2.91500000e+03,\n",
       "         6.91010000e+04,   3.59000000e+02,   4.78660000e+04,\n",
       "         8.73700000e+03,   3.21360000e+04,   1.54400000e+03,\n",
       "         2.44000000e+03,   3.42500000e+03,   8.82000000e+02,\n",
       "         2.50000000e+01,   5.87000000e+02,   3.43000000e+02,\n",
       "         1.60800000e+03,   6.30000000e+01,   1.85000000e+02,\n",
       "         1.67000000e+02,   5.03000000e+02,   3.90000000e+01,\n",
       "         6.03000000e+02,   3.12000000e+02,   6.53000000e+02,\n",
       "         3.00000000e+01,   4.40000000e+01,   4.40000000e+01,\n",
       "         2.20000000e+01,   2.00000000e+00,   3.80000000e+01,\n",
       "         1.10000000e+01,   1.85900000e+03,   3.40000000e+01,\n",
       "         1.48000000e+02,   1.99000000e+02,   4.10000000e+02,\n",
       "         1.60000000e+01,   3.39000000e+02,   2.06000000e+02,\n",
       "         4.44170000e+04,   3.42300000e+03,   3.98400000e+03,\n",
       "         6.52000000e+03,   6.01000000e+02,   4.40000000e+01,\n",
       "         1.01800000e+03,   9.47000000e+02,   1.45500000e+03,\n",
       "         1.56000000e+02,   1.26000000e+02,   1.79000000e+02,\n",
       "         1.51500000e+03,   1.92000000e+02,   3.46600000e+03,\n",
       "         1.89200000e+03,   3.33350000e+04,   3.67000000e+02,\n",
       "         2.14200000e+03,   9.96000000e+02,   3.33000000e+02,\n",
       "         2.20000000e+01,   9.89000000e+02,   2.15000000e+02,\n",
       "         4.50080000e+04,   3.01000000e+02,   1.43700000e+03,\n",
       "         1.67700000e+03,   9.74600000e+03,   1.84000000e+02,\n",
       "         9.08700000e+03,   2.09000000e+03,   4.29290000e+04,\n",
       "         4.31390000e+04,   2.28800000e+03,   1.36007000e+05,\n",
       "         1.53900000e+03,   1.79000000e+03,   1.41100000e+03,\n",
       "         3.76120000e+04,   4.29700000e+03,   4.21700000e+03,\n",
       "         1.90000000e+02,   4.63300000e+03,   4.40900000e+03,\n",
       "         5.37300000e+03,   5.67800000e+03,   3.65240000e+04,\n",
       "         1.72600000e+03,   5.80000000e+02,   1.65000000e+02,\n",
       "         5.75000000e+02,   6.70000000e+01,   3.40000000e+01,\n",
       "         1.78000000e+02,   2.66000000e+02,   4.29600000e+03,\n",
       "         1.22800000e+03,   1.22000000e+02,   3.25600000e+03,\n",
       "         5.48300000e+03,   2.02000000e+03,   3.43900000e+03,\n",
       "         1.05970000e+04,   2.33500000e+03,   1.47300000e+03,\n",
       "         1.49000000e+02,   3.90900000e+03,   1.84000000e+02,\n",
       "         1.26000000e+02,   1.21000000e+02,   1.44700000e+03,\n",
       "         1.90000000e+02,   1.53000000e+02,   3.80000000e+01,\n",
       "         3.17000000e+02,   1.37000000e+02,   1.57000000e+02,\n",
       "         2.64000000e+02,   1.39500000e+03,   1.36500000e+03,\n",
       "         1.35600000e+03,   1.10000000e+02,   2.78100000e+03,\n",
       "         1.26000000e+02,   1.76000000e+02,   1.91000000e+02,\n",
       "         1.58800000e+03,   5.08000000e+03,   3.57000000e+03,\n",
       "         3.06000000e+02,   2.72220000e+04,   3.39000000e+03,\n",
       "         2.55300000e+03,   2.60200000e+03,   2.30440000e+04,\n",
       "         4.47100000e+04,   5.40810000e+04,   1.57900000e+03,\n",
       "         5.89600000e+04,   4.94000000e+02,   3.71000000e+02,\n",
       "         1.44800000e+03,   8.88000000e+03,   4.50700000e+03,\n",
       "         5.35000000e+03,   1.53000000e+02,   3.28300000e+03,\n",
       "         1.38700000e+03,   1.85300000e+03,   4.13100000e+03,\n",
       "         1.11790000e+04,   2.00000000e+03,   4.06000000e+02,\n",
       "         1.24000000e+02,   3.12000000e+02,   4.60000000e+01,\n",
       "         1.30000000e+01,   2.18000000e+02,   1.83000000e+02,\n",
       "         5.37100000e+03,   1.93300000e+03,   1.54000000e+02,\n",
       "         2.53800000e+03,   1.96800000e+03,   6.57000000e+02,\n",
       "         2.83700000e+03,   3.41000000e+03,   1.56878000e+05,\n",
       "         6.93410000e+04,   4.71700000e+03,   4.56320000e+04,\n",
       "         6.04000000e+02,   3.45000000e+02,   3.44900000e+03,\n",
       "         8.97400000e+03,   5.43300000e+03,   3.39600000e+03,\n",
       "         3.30000000e+02,   2.57900000e+03,   3.97900000e+03,\n",
       "         2.63600000e+03,   3.10970000e+04,   2.59080000e+04,\n",
       "         4.63930000e+04,   9.45300000e+03,   1.60700000e+03,\n",
       "         8.52300000e+03,   2.58000000e+02,   2.01000000e+02,\n",
       "         1.79400000e+03,   1.90800000e+03,   3.81180000e+04,\n",
       "         1.09460000e+04,   1.35600000e+03,   2.36650000e+04,\n",
       "         1.13190000e+04,   3.32000000e+03,   2.55150000e+04,\n",
       "         3.30700000e+04])"
      ]
     },
     "execution_count": 20,
     "metadata": {},
     "output_type": "execute_result"
    }
   ],
   "source": [
    "def lbp_histogram(image):\n",
    "    \"\"\"\n",
    "    Compute lbp histogram representation of image\n",
    "    \"\"\"\n",
    "    lbp_image = lbp_representation(image)\n",
    "    m,n = lbp_image.shape\n",
    "    hist = np.zeros(256)\n",
    "    for i in range(256):\n",
    "        hist[i] = np.count_nonzero(lbp_image == i)\n",
    "    return hist \n",
    "\n",
    "lbp_histogram(img)"
   ]
  },
  {
   "cell_type": "code",
   "execution_count": null,
   "metadata": {
    "collapsed": true
   },
   "outputs": [],
   "source": []
  },
  {
   "cell_type": "code",
   "execution_count": null,
   "metadata": {
    "collapsed": true
   },
   "outputs": [],
   "source": []
  },
  {
   "cell_type": "code",
   "execution_count": null,
   "metadata": {
    "collapsed": true
   },
   "outputs": [],
   "source": []
  }
 ],
 "metadata": {
  "kernelspec": {
   "display_name": "Python 3",
   "language": "python",
   "name": "python3"
  },
  "language_info": {
   "codemirror_mode": {
    "name": "ipython",
    "version": 3
   },
   "file_extension": ".py",
   "mimetype": "text/x-python",
   "name": "python",
   "nbconvert_exporter": "python",
   "pygments_lexer": "ipython3",
   "version": "3.6.0"
  }
 },
 "nbformat": 4,
 "nbformat_minor": 2
}
